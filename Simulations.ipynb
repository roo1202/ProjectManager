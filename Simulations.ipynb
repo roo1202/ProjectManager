{
 "cells": [
  {
   "cell_type": "code",
   "execution_count": null,
   "metadata": {},
   "outputs": [],
   "source": [
    "# Definimos los parametros de los agentes trabajadores\n",
    "MIN_PS_AGENTS = 10          # Numero minimo de resolucion de problemas de los agentes\n",
    "MAX_PS_AGENTS = 100         # Numero maximo de resolucion de problemas de los agentes\n",
    "MIN_FRIENDSHIP = 0          # Minimo de amistad entre los agentes\n",
    "MAX_FRIENDSHIP = 1          # Maximo de amistad entre los agentes\n",
    "MIN_MIN_ENERGY = 10         # Minima energia de los agentes para trabajar\n",
    "MAX_MIN_ENERGY = 100        # Maxima energia de los agentes para trabajar\n",
    "MIN_MOTIVATION = 10         # Motivacion minima para que los trabajadores se sientan motivados\n",
    "\n",
    "# Definimos los parametros del Project Manager\n",
    "MIN_MOTIVATION = 20         # Minima motivacion que debe tener el equipo\n",
    "RISKY = 0.2                 # Cuan arriesgado es el project manager\n",
    "MIN_WORK_PROB = 0             # Probabilidad minima de que elija trabajar él antes de mandar a un trabajador\n",
    "MAX_WORK_PROB = 0.2  \n",
    "MIN_COOPERATION = 0.5       # Probabilidad minima de que elija mandar a cooperar en tareas dificiles, 1 - P seria la probabilidad de que reasigne en vez de cooperar\n",
    "MAX_COOPERATION = 1\n",
    "MIN_EXPLORATION = 0         # Probabilidad minima de que tome decisiones poco usuales\n",
    "MAX_EXPLORATION = 0.2 \n",
    "\n",
    "# Definimos algunos parametros para las tareas\n",
    "MIN_DURATION = 5            # Duracion minima de una tarea\n",
    "MAX_DURATION = 100         \n",
    "INTERVAL = 1.2              # Porcentaje de tiempo entre el start y el deadline de la tarea\n",
    "MIN_RESOURCES = 0           # Cantidad minima de recursos que tiene una tarea\n",
    "MAX_RESOURCES = 10\n",
    "MIN_DEPENDENCIES = 0        # Cantidad minima de dependencias que tiene una tarea\n",
    "MAX_DEPENDENCIES = 10\n",
    "MIN_REWARD = 0              # Recompensa minima que debe tener una tarea\n",
    "MAX_REWARD = 100 \n",
    "MIN_DIFFICULTY = 0          # Dificultad minima que debe tener una tarea\n",
    "MAX_DIFFICULTY = 100\n",
    "MIN_PROBLEMS_PROB = 0       # Probabilidad minima de una tarea de generar un problema\n",
    "MAX_PROBLEMS_PROB = 0.5     \n"
   ]
  },
  {
   "cell_type": "markdown",
   "metadata": {},
   "source": [
    "### Definimos la simulación"
   ]
  },
  {
   "cell_type": "code",
   "execution_count": 1,
   "metadata": {},
   "outputs": [],
   "source": [
    "import random\n",
    "from PMOntologic.PMO import Project\n",
    "from PMOntologic.Resource import Resource\n",
    "from Simulation.Simulator import Simulator\n",
    "from Simulation.Environment import WorkCenter\n",
    "from Simulation.PMAgent import PMAgent, PMperception\n",
    "from Simulation.WorkerAgent import WorkerAgent\n",
    "from Tasks.GeneticAlgorithm.Population import Population\n",
    "from Tasks.GeneticAlgorithm.Tasks_combination import optimization_function\n",
    "from Tasks.task import Task\n",
    "\n",
    "agents = [\n",
    "    WorkerAgent('trabajador_1', problem_solving=random.randint(10,70), friendship=random.random()),\n",
    "    WorkerAgent('trabajador_2', problem_solving=random.randint(10,70), friendship=random.random()),\n",
    "    WorkerAgent('trabajador_3', problem_solving=random.randint(10,70), friendship=random.random()),\n",
    "    WorkerAgent('trabajador_4', problem_solving=random.randint(10,70), friendship=random.random()),\n",
    "    WorkerAgent('trabajador_5', problem_solving=random.randint(10,70), friendship=random.random()),\n",
    "    WorkerAgent('trabajador_6', problem_solving=random.randint(10,70), friendship=random.random()),\n",
    "    WorkerAgent('trabajador_7', problem_solving=random.randint(10,70), friendship=random.random()),\n",
    "    WorkerAgent('trabajador_8', problem_solving=random.randint(10,70), friendship=random.random()),\n",
    "    WorkerAgent('trabajador_9', problem_solving=random.randint(10,70), friendship=random.random())\n",
    "]\n",
    "\n",
    "resources_id = ['Resource1', 'Resource2', 'Resource3', 'Resource4', 'Resource5', 'Resource6', 'Resource7', 'Resource8', 'Resource9', 'Resource10']\n",
    "resources_cant = {resource : 0 for resource in resources_id}\n",
    "\n",
    "# Definamos tareas de modo que no queden dependencias circulares\n",
    "tasks = []\n",
    "for i in range(100):\n",
    "    task = Task(id=i, priority=random.randint(0,5), duration=random.randint(10,60), reward=random.randint(10,100), difficulty=random.randint(10,50), problems_probability=random.uniform(0,0.5))\n",
    "    cant = random.randint(1,10)\n",
    "    for _ in range(cant):\n",
    "        r = random.choice(resources_id)\n",
    "        amount = random.randint(0,5)\n",
    "        resource = Resource(r, amount)\n",
    "        task.resources.append(resource)\n",
    "        resources_cant[r] += amount \n",
    "    tasks.append(task)\n",
    "\n",
    "for i in range(99):\n",
    "    if random.random() < 0.2 :\n",
    "        dep = random.randint(1,4)\n",
    "        for j in range(dep):\n",
    "            index = random.randint(i+1, 99)\n",
    "            tasks[i].dependencies.append(tasks[index])\n",
    "\n",
    "\n",
    "project = Project(objective='number_of_tasks',tasks=tasks, resources=[Resource(resource,cant*1.2) for resource,cant in resources_cant.items()])\n",
    "\n",
    "pm = PMAgent(min_motivation_team=20, initial_perception=PMperception(actual_time=0, team_motivation=80), project=project)\n",
    "pm.know_workers([(agent.id,agent.problem_solving) for agent in agents])\n",
    "\n",
    "simulator = Simulator(WorkCenter)\n",
    "simulations = simulator.StartManySimulationsThreading(8,1000,agents,pm,project)    \n",
    "   \n",
    "\n"
   ]
  },
  {
   "cell_type": "code",
   "execution_count": 3,
   "metadata": {},
   "outputs": [],
   "source": [
    "for env in simulations:\n",
    "    env.save_log_to_csv()  "
   ]
  }
 ],
 "metadata": {
  "kernelspec": {
   "display_name": "Python 3",
   "language": "python",
   "name": "python3"
  },
  "language_info": {
   "codemirror_mode": {
    "name": "ipython",
    "version": 3
   },
   "file_extension": ".py",
   "mimetype": "text/x-python",
   "name": "python",
   "nbconvert_exporter": "python",
   "pygments_lexer": "ipython3",
   "version": "3.11.5"
  }
 },
 "nbformat": 4,
 "nbformat_minor": 2
}
