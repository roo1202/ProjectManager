{
 "cells": [
  {
   "cell_type": "code",
   "execution_count": 1,
   "metadata": {},
   "outputs": [],
   "source": [
    "from Tasks.tests import generate_test\n",
    "\n",
    "tasks = generate_test()\n"
   ]
  },
  {
   "cell_type": "code",
   "execution_count": 2,
   "metadata": {},
   "outputs": [
    {
     "name": "stdout",
     "output_type": "stream",
     "text": [
      "Estructura del grafo: \n",
      "{0: [Task(Name: 1), Task(Name: 2)], 1: [Task(Name: 2), Task(Name: 3), Task(Name: 4)], 2: [Task(Name: 5), Task(Name: 6)], 3: [], 4: [Task(Name: 7)], 5: [Task(Name: 7)], 6: [Task(Name: 8)], 7: [Task(Name: 9)], 8: [Task(Name: 9)], 9: []}\n",
      "Orden topologico: \n",
      "[[0], [1], [2, 3, 4], [5, 6], [7, 8], [9]]\n",
      "index  7\n",
      "level  4\n",
      "current task  7\n",
      "current level  5\n",
      "current task  9\n",
      "current level  6\n",
      "Orden topologico mutado: \n",
      "[[0], [1], [2, 3, 4], [5, 6], [8], [7], [9]]\n"
     ]
    }
   ],
   "source": [
    "from Tasks.GeneticAlgorithm.Permutations_generator_heuristics import generate_permutation\n",
    "\n",
    "permutation = generate_permutation(tasks, True)\n"
   ]
  },
  {
   "cell_type": "code",
   "execution_count": 3,
   "metadata": {},
   "outputs": [
    {
     "name": "stdout",
     "output_type": "stream",
     "text": [
      "[Task(Name: 0), Task(Name: 1), Task(Name: 2), Task(Name: 4), Task(Name: 3), Task(Name: 5), Task(Name: 6), Task(Name: 8), Task(Name: 7), Task(Name: 9)]\n"
     ]
    }
   ],
   "source": [
    "print(permutation)"
   ]
  }
 ],
 "metadata": {
  "kernelspec": {
   "display_name": "Python 3",
   "language": "python",
   "name": "python3"
  },
  "language_info": {
   "codemirror_mode": {
    "name": "ipython",
    "version": 3
   },
   "file_extension": ".py",
   "mimetype": "text/x-python",
   "name": "python",
   "nbconvert_exporter": "python",
   "pygments_lexer": "ipython3",
   "version": "3.12.4"
  }
 },
 "nbformat": 4,
 "nbformat_minor": 2
}
