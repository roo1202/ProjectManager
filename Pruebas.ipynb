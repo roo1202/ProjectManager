{
 "cells": [
  {
   "cell_type": "code",
   "execution_count": 5,
   "metadata": {},
   "outputs": [],
   "source": [
    "from Tasks.tests import generate_test\n",
    "\n",
    "tasks = generate_test()\n"
   ]
  },
  {
   "cell_type": "code",
   "execution_count": 6,
   "metadata": {},
   "outputs": [],
   "source": [
    "from Tasks.GeneticAlgorithm.Permutations_generator_heuristics import generate_permutation\n",
    "\n",
    "permutation1 = generate_permutation(tasks, False)\n",
    "permutation2 = generate_permutation(tasks, False)\n"
   ]
  },
  {
   "cell_type": "code",
   "execution_count": 7,
   "metadata": {},
   "outputs": [
    {
     "name": "stdout",
     "output_type": "stream",
     "text": [
      "[Task(Name: 0), Task(Name: 1), Task(Name: 2), Task(Name: 4), Task(Name: 5), Task(Name: 6), Task(Name: 3), Task(Name: 8), Task(Name: 7), Task(Name: 9)]\n",
      "[Task(Name: 0), Task(Name: 1), Task(Name: 3), Task(Name: 4), Task(Name: 2), Task(Name: 5), Task(Name: 6), Task(Name: 8), Task(Name: 7), Task(Name: 9), Task(Name: 9)]\n"
     ]
    }
   ],
   "source": [
    "print(permutation1)\n",
    "print(permutation2)"
   ]
  },
  {
   "cell_type": "code",
   "execution_count": 8,
   "metadata": {},
   "outputs": [
    {
     "name": "stdout",
     "output_type": "stream",
     "text": [
      "[Task(Name: 0), Task(Name: 1), Task(Name: 2), Task(Name: 4), Task(Name: 5), Task(Name: 3), Task(Name: 6), Task(Name: 8), Task(Name: 7), Task(Name: 9)]\n"
     ]
    }
   ],
   "source": [
    "from Tasks.GeneticAlgorithm.Permutations_generator_heuristics import dependency_aware_crossover\n",
    "merged_permutation = dependency_aware_crossover(permutation1, permutation2)\n",
    "print(merged_permutation)"
   ]
  }
 ],
 "metadata": {
  "kernelspec": {
   "display_name": "Python 3",
   "language": "python",
   "name": "python3"
  },
  "language_info": {
   "codemirror_mode": {
    "name": "ipython",
    "version": 3
   },
   "file_extension": ".py",
   "mimetype": "text/x-python",
   "name": "python",
   "nbconvert_exporter": "python",
   "pygments_lexer": "ipython3",
   "version": "3.12.4"
  }
 },
 "nbformat": 4,
 "nbformat_minor": 2
}
